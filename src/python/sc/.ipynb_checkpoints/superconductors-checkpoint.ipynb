{
 "cells": [
  {
   "cell_type": "code",
   "execution_count": 23,
   "metadata": {},
   "outputs": [],
   "source": [
    "import math\n",
    "import numpy as np\n",
    "import pandas as pd\n",
    "import matplotlib.pyplot as plt\n",
    "import sklearn\n",
    "plt.style.use('ggplot')"
   ]
  },
  {
   "cell_type": "code",
   "execution_count": 8,
   "metadata": {},
   "outputs": [],
   "source": [
    "# !wget -O Supercond_ML_data.zip https://drive.google.com/u/0/uc?id=18Di08gG5749qXzOax-vzS3navEYRwL51&export=download"
   ]
  },
  {
   "cell_type": "code",
   "execution_count": 9,
   "metadata": {},
   "outputs": [],
   "source": [
    "# !unzip Supercond_ML_data.zip"
   ]
  },
  {
   "cell_type": "markdown",
   "metadata": {},
   "source": [
    "Superconductivity Dataset from Japan, retrieved from literature\n",
    "\n",
    "Dataset has the compound name and the critical temperature"
   ]
  },
  {
   "cell_type": "code",
   "execution_count": 51,
   "metadata": {},
   "outputs": [
    {
     "name": "stdout",
     "output_type": "stream",
     "text": [
      "(9999, 2)\n"
     ]
    },
    {
     "data": {
      "text/html": [
       "<div>\n",
       "<style scoped>\n",
       "    .dataframe tbody tr th:only-of-type {\n",
       "        vertical-align: middle;\n",
       "    }\n",
       "\n",
       "    .dataframe tbody tr th {\n",
       "        vertical-align: top;\n",
       "    }\n",
       "\n",
       "    .dataframe thead th {\n",
       "        text-align: right;\n",
       "    }\n",
       "</style>\n",
       "<table border=\"1\" class=\"dataframe\">\n",
       "  <thead>\n",
       "    <tr style=\"text-align: right;\">\n",
       "      <th></th>\n",
       "      <th>name</th>\n",
       "      <th>Tc</th>\n",
       "    </tr>\n",
       "  </thead>\n",
       "  <tbody>\n",
       "    <tr>\n",
       "      <th>0</th>\n",
       "      <td>Sn1Te1</td>\n",
       "      <td>NaN</td>\n",
       "    </tr>\n",
       "    <tr>\n",
       "      <th>1</th>\n",
       "      <td>Au0.22Te0.78</td>\n",
       "      <td>1.54</td>\n",
       "    </tr>\n",
       "    <tr>\n",
       "      <th>2</th>\n",
       "      <td>La1.92Sr0.08Cu1O4</td>\n",
       "      <td>24</td>\n",
       "    </tr>\n",
       "    <tr>\n",
       "      <th>3</th>\n",
       "      <td>Bi2Sr1.85Ba0.15Ca1Cu2Oz</td>\n",
       "      <td>83.5</td>\n",
       "    </tr>\n",
       "    <tr>\n",
       "      <th>4</th>\n",
       "      <td>B2Mg1</td>\n",
       "      <td>39.5</td>\n",
       "    </tr>\n",
       "  </tbody>\n",
       "</table>\n",
       "</div>"
      ],
      "text/plain": [
       "                      name    Tc\n",
       "0                   Sn1Te1   NaN\n",
       "1             Au0.22Te0.78  1.54\n",
       "2        La1.92Sr0.08Cu1O4    24\n",
       "3  Bi2Sr1.85Ba0.15Ca1Cu2Oz  83.5\n",
       "4                    B2Mg1  39.5"
      ]
     },
     "execution_count": 51,
     "metadata": {},
     "output_type": "execute_result"
    }
   ],
   "source": [
    "data = pd.read_csv('SC_short_June2017.csv')\n",
    "print(data.shape)\n",
    "data.head()"
   ]
  },
  {
   "cell_type": "code",
   "execution_count": 61,
   "metadata": {},
   "outputs": [
    {
     "data": {
      "text/plain": [
       "name    La1.9Ca1.1Cu2O6+Y\n",
       "Tc                    NaN\n",
       "Name: 17, dtype: object"
      ]
     },
     "execution_count": 61,
     "metadata": {},
     "output_type": "execute_result"
    }
   ],
   "source": [
    "data.loc[17]"
   ]
  },
  {
   "cell_type": "code",
   "execution_count": 63,
   "metadata": {},
   "outputs": [
    {
     "data": {
      "text/plain": [
       "(7844, 2)"
      ]
     },
     "execution_count": 63,
     "metadata": {},
     "output_type": "execute_result"
    }
   ],
   "source": [
    "data = data.loc[~data['name'].str.contains(\"Oy|oz|ox|\\\\+d|\\\\+x|\\\\+D|\\\\+X|\\\\+z|\\\\+y|-y|-z|=z|Fz|Ph|Nn|-d|-x\", case = False)]\n",
    "data = data[~data['Tc'].str.contains(\"C|Re\", case = False, na=False)]\n",
    "data.shape"
   ]
  },
  {
   "cell_type": "code",
   "execution_count": 64,
   "metadata": {},
   "outputs": [
    {
     "data": {
      "text/plain": [
       "name    object\n",
       "Tc      object\n",
       "dtype: object"
      ]
     },
     "execution_count": 64,
     "metadata": {},
     "output_type": "execute_result"
    }
   ],
   "source": [
    "data.dtypes"
   ]
  },
  {
   "cell_type": "code",
   "execution_count": 65,
   "metadata": {},
   "outputs": [],
   "source": [
    "data[\"Tc\"]= data[\"Tc\"].apply(lambda x:  float(x))"
   ]
  },
  {
   "cell_type": "code",
   "execution_count": 66,
   "metadata": {},
   "outputs": [
    {
     "data": {
      "text/plain": [
       "name     object\n",
       "Tc      float64\n",
       "dtype: object"
      ]
     },
     "execution_count": 66,
     "metadata": {},
     "output_type": "execute_result"
    }
   ],
   "source": [
    "data.dtypes"
   ]
  },
  {
   "cell_type": "code",
   "execution_count": 67,
   "metadata": {},
   "outputs": [
    {
     "data": {
      "text/html": [
       "<div>\n",
       "<style scoped>\n",
       "    .dataframe tbody tr th:only-of-type {\n",
       "        vertical-align: middle;\n",
       "    }\n",
       "\n",
       "    .dataframe tbody tr th {\n",
       "        vertical-align: top;\n",
       "    }\n",
       "\n",
       "    .dataframe thead th {\n",
       "        text-align: right;\n",
       "    }\n",
       "</style>\n",
       "<table border=\"1\" class=\"dataframe\">\n",
       "  <thead>\n",
       "    <tr style=\"text-align: right;\">\n",
       "      <th></th>\n",
       "      <th>name</th>\n",
       "      <th>Tc</th>\n",
       "    </tr>\n",
       "  </thead>\n",
       "  <tbody>\n",
       "    <tr>\n",
       "      <th>0</th>\n",
       "      <td>Sn1Te1</td>\n",
       "      <td>NaN</td>\n",
       "    </tr>\n",
       "    <tr>\n",
       "      <th>1</th>\n",
       "      <td>Au0.22Te0.78</td>\n",
       "      <td>1.54</td>\n",
       "    </tr>\n",
       "    <tr>\n",
       "      <th>2</th>\n",
       "      <td>La1.92Sr0.08Cu1O4</td>\n",
       "      <td>24.00</td>\n",
       "    </tr>\n",
       "    <tr>\n",
       "      <th>4</th>\n",
       "      <td>B2Mg1</td>\n",
       "      <td>39.50</td>\n",
       "    </tr>\n",
       "    <tr>\n",
       "      <th>5</th>\n",
       "      <td>Pu1Rh1Ga5</td>\n",
       "      <td>8.50</td>\n",
       "    </tr>\n",
       "  </tbody>\n",
       "</table>\n",
       "</div>"
      ],
      "text/plain": [
       "                name     Tc\n",
       "0             Sn1Te1    NaN\n",
       "1       Au0.22Te0.78   1.54\n",
       "2  La1.92Sr0.08Cu1O4  24.00\n",
       "4              B2Mg1  39.50\n",
       "5          Pu1Rh1Ga5   8.50"
      ]
     },
     "execution_count": 67,
     "metadata": {},
     "output_type": "execute_result"
    }
   ],
   "source": [
    "data.head()"
   ]
  },
  {
   "cell_type": "code",
   "execution_count": 68,
   "metadata": {},
   "outputs": [
    {
     "data": {
      "text/html": [
       "<div>\n",
       "<style scoped>\n",
       "    .dataframe tbody tr th:only-of-type {\n",
       "        vertical-align: middle;\n",
       "    }\n",
       "\n",
       "    .dataframe tbody tr th {\n",
       "        vertical-align: top;\n",
       "    }\n",
       "\n",
       "    .dataframe thead th {\n",
       "        text-align: right;\n",
       "    }\n",
       "</style>\n",
       "<table border=\"1\" class=\"dataframe\">\n",
       "  <thead>\n",
       "    <tr style=\"text-align: right;\">\n",
       "      <th></th>\n",
       "      <th>Tc</th>\n",
       "    </tr>\n",
       "  </thead>\n",
       "  <tbody>\n",
       "    <tr>\n",
       "      <th>count</th>\n",
       "      <td>6157.000000</td>\n",
       "    </tr>\n",
       "    <tr>\n",
       "      <th>mean</th>\n",
       "      <td>24.878144</td>\n",
       "    </tr>\n",
       "    <tr>\n",
       "      <th>std</th>\n",
       "      <td>39.893491</td>\n",
       "    </tr>\n",
       "    <tr>\n",
       "      <th>min</th>\n",
       "      <td>0.000000</td>\n",
       "    </tr>\n",
       "    <tr>\n",
       "      <th>25%</th>\n",
       "      <td>3.700000</td>\n",
       "    </tr>\n",
       "    <tr>\n",
       "      <th>50%</th>\n",
       "      <td>11.000000</td>\n",
       "    </tr>\n",
       "    <tr>\n",
       "      <th>75%</th>\n",
       "      <td>34.400000</td>\n",
       "    </tr>\n",
       "    <tr>\n",
       "      <th>max</th>\n",
       "      <td>2161.000000</td>\n",
       "    </tr>\n",
       "  </tbody>\n",
       "</table>\n",
       "</div>"
      ],
      "text/plain": [
       "                Tc\n",
       "count  6157.000000\n",
       "mean     24.878144\n",
       "std      39.893491\n",
       "min       0.000000\n",
       "25%       3.700000\n",
       "50%      11.000000\n",
       "75%      34.400000\n",
       "max    2161.000000"
      ]
     },
     "execution_count": 68,
     "metadata": {},
     "output_type": "execute_result"
    }
   ],
   "source": [
    "data.describe()"
   ]
  },
  {
   "cell_type": "code",
   "execution_count": 69,
   "metadata": {},
   "outputs": [],
   "source": [
    "data = data.fillna(0)"
   ]
  },
  {
   "cell_type": "code",
   "execution_count": 70,
   "metadata": {},
   "outputs": [
    {
     "data": {
      "text/html": [
       "<div>\n",
       "<style scoped>\n",
       "    .dataframe tbody tr th:only-of-type {\n",
       "        vertical-align: middle;\n",
       "    }\n",
       "\n",
       "    .dataframe tbody tr th {\n",
       "        vertical-align: top;\n",
       "    }\n",
       "\n",
       "    .dataframe thead th {\n",
       "        text-align: right;\n",
       "    }\n",
       "</style>\n",
       "<table border=\"1\" class=\"dataframe\">\n",
       "  <thead>\n",
       "    <tr style=\"text-align: right;\">\n",
       "      <th></th>\n",
       "      <th>Tc</th>\n",
       "    </tr>\n",
       "  </thead>\n",
       "  <tbody>\n",
       "    <tr>\n",
       "      <th>count</th>\n",
       "      <td>7844.000000</td>\n",
       "    </tr>\n",
       "    <tr>\n",
       "      <th>mean</th>\n",
       "      <td>19.527631</td>\n",
       "    </tr>\n",
       "    <tr>\n",
       "      <th>std</th>\n",
       "      <td>36.792161</td>\n",
       "    </tr>\n",
       "    <tr>\n",
       "      <th>min</th>\n",
       "      <td>0.000000</td>\n",
       "    </tr>\n",
       "    <tr>\n",
       "      <th>25%</th>\n",
       "      <td>0.631500</td>\n",
       "    </tr>\n",
       "    <tr>\n",
       "      <th>50%</th>\n",
       "      <td>6.095000</td>\n",
       "    </tr>\n",
       "    <tr>\n",
       "      <th>75%</th>\n",
       "      <td>25.600000</td>\n",
       "    </tr>\n",
       "    <tr>\n",
       "      <th>max</th>\n",
       "      <td>2161.000000</td>\n",
       "    </tr>\n",
       "  </tbody>\n",
       "</table>\n",
       "</div>"
      ],
      "text/plain": [
       "                Tc\n",
       "count  7844.000000\n",
       "mean     19.527631\n",
       "std      36.792161\n",
       "min       0.000000\n",
       "25%       0.631500\n",
       "50%       6.095000\n",
       "75%      25.600000\n",
       "max    2161.000000"
      ]
     },
     "execution_count": 70,
     "metadata": {},
     "output_type": "execute_result"
    }
   ],
   "source": [
    "data.describe()"
   ]
  },
  {
   "cell_type": "code",
   "execution_count": 71,
   "metadata": {},
   "outputs": [
    {
     "data": {
      "text/plain": [
       "(7843, 2)"
      ]
     },
     "execution_count": 71,
     "metadata": {},
     "output_type": "execute_result"
    }
   ],
   "source": [
    "data = data[data.Tc < 2161]\n",
    "data.shape"
   ]
  },
  {
   "cell_type": "code",
   "execution_count": 72,
   "metadata": {},
   "outputs": [
    {
     "data": {
      "text/html": [
       "<div>\n",
       "<style scoped>\n",
       "    .dataframe tbody tr th:only-of-type {\n",
       "        vertical-align: middle;\n",
       "    }\n",
       "\n",
       "    .dataframe tbody tr th {\n",
       "        vertical-align: top;\n",
       "    }\n",
       "\n",
       "    .dataframe thead th {\n",
       "        text-align: right;\n",
       "    }\n",
       "</style>\n",
       "<table border=\"1\" class=\"dataframe\">\n",
       "  <thead>\n",
       "    <tr style=\"text-align: right;\">\n",
       "      <th></th>\n",
       "      <th>Tc</th>\n",
       "    </tr>\n",
       "  </thead>\n",
       "  <tbody>\n",
       "    <tr>\n",
       "      <th>count</th>\n",
       "      <td>7843.000000</td>\n",
       "    </tr>\n",
       "    <tr>\n",
       "      <th>mean</th>\n",
       "      <td>19.254588</td>\n",
       "    </tr>\n",
       "    <tr>\n",
       "      <th>std</th>\n",
       "      <td>27.730373</td>\n",
       "    </tr>\n",
       "    <tr>\n",
       "      <th>min</th>\n",
       "      <td>0.000000</td>\n",
       "    </tr>\n",
       "    <tr>\n",
       "      <th>25%</th>\n",
       "      <td>0.629000</td>\n",
       "    </tr>\n",
       "    <tr>\n",
       "      <th>50%</th>\n",
       "      <td>6.090000</td>\n",
       "    </tr>\n",
       "    <tr>\n",
       "      <th>75%</th>\n",
       "      <td>25.600000</td>\n",
       "    </tr>\n",
       "    <tr>\n",
       "      <th>max</th>\n",
       "      <td>135.800000</td>\n",
       "    </tr>\n",
       "  </tbody>\n",
       "</table>\n",
       "</div>"
      ],
      "text/plain": [
       "                Tc\n",
       "count  7843.000000\n",
       "mean     19.254588\n",
       "std      27.730373\n",
       "min       0.000000\n",
       "25%       0.629000\n",
       "50%       6.090000\n",
       "75%      25.600000\n",
       "max     135.800000"
      ]
     },
     "execution_count": 72,
     "metadata": {},
     "output_type": "execute_result"
    }
   ],
   "source": [
    "data.describe()"
   ]
  },
  {
   "cell_type": "code",
   "execution_count": 75,
   "metadata": {},
   "outputs": [
    {
     "data": {
      "text/plain": [
       "(50, 2)"
      ]
     },
     "execution_count": 75,
     "metadata": {},
     "output_type": "execute_result"
    }
   ],
   "source": [
    "dss = data[data.name == \"Y1Ba2Cu3O7\"]\n",
    "dss.shape"
   ]
  },
  {
   "cell_type": "code",
   "execution_count": 76,
   "metadata": {},
   "outputs": [
    {
     "name": "stdout",
     "output_type": "stream",
     "text": [
      "How many compounds have sdt > 5 K:  141\n",
      "Remaining entries:  7135\n"
     ]
    }
   ],
   "source": [
    "# Find the compositions with std(T_c)>5\n",
    "grouped = data.groupby(\"name\").agg({'Tc' : np.std}).dropna()\n",
    "index1 = grouped[grouped > 5].dropna().index\n",
    "print(\"How many compounds have sdt > 5 K: \", len(index1))\n",
    "del grouped\n",
    "\n",
    "#Average the T_c for the rest\n",
    "print(\"Remaining entries: \", data[~data['name'].isin(index1)].shape[0])\n",
    "data = data[~data['name'].isin(index1)].groupby(\"name\", as_index=False).agg(np.mean)\n",
    "# del data[\"index\"]"
   ]
  },
  {
   "cell_type": "code",
   "execution_count": 77,
   "metadata": {},
   "outputs": [
    {
     "data": {
      "text/plain": [
       "count      6152\n",
       "unique     6152\n",
       "top       B1Mo1\n",
       "freq          1\n",
       "Name: name, dtype: object"
      ]
     },
     "execution_count": 77,
     "metadata": {},
     "output_type": "execute_result"
    }
   ],
   "source": [
    "data[\"name\"].describe()"
   ]
  },
  {
   "cell_type": "code",
   "execution_count": 78,
   "metadata": {},
   "outputs": [
    {
     "data": {
      "text/plain": [
       "False"
      ]
     },
     "execution_count": 78,
     "metadata": {},
     "output_type": "execute_result"
    }
   ],
   "source": [
    "data.isna().values.any()\n",
    "#data.isna().sum().sum()"
   ]
  },
  {
   "cell_type": "code",
   "execution_count": 79,
   "metadata": {},
   "outputs": [
    {
     "data": {
      "text/html": [
       "<div>\n",
       "<style scoped>\n",
       "    .dataframe tbody tr th:only-of-type {\n",
       "        vertical-align: middle;\n",
       "    }\n",
       "\n",
       "    .dataframe tbody tr th {\n",
       "        vertical-align: top;\n",
       "    }\n",
       "\n",
       "    .dataframe thead th {\n",
       "        text-align: right;\n",
       "    }\n",
       "</style>\n",
       "<table border=\"1\" class=\"dataframe\">\n",
       "  <thead>\n",
       "    <tr style=\"text-align: right;\">\n",
       "      <th></th>\n",
       "      <th>Tc</th>\n",
       "    </tr>\n",
       "  </thead>\n",
       "  <tbody>\n",
       "    <tr>\n",
       "      <th>count</th>\n",
       "      <td>6152.000000</td>\n",
       "    </tr>\n",
       "    <tr>\n",
       "      <th>mean</th>\n",
       "      <td>17.781238</td>\n",
       "    </tr>\n",
       "    <tr>\n",
       "      <th>std</th>\n",
       "      <td>26.829585</td>\n",
       "    </tr>\n",
       "    <tr>\n",
       "      <th>min</th>\n",
       "      <td>0.000000</td>\n",
       "    </tr>\n",
       "    <tr>\n",
       "      <th>25%</th>\n",
       "      <td>0.261500</td>\n",
       "    </tr>\n",
       "    <tr>\n",
       "      <th>50%</th>\n",
       "      <td>5.100000</td>\n",
       "    </tr>\n",
       "    <tr>\n",
       "      <th>75%</th>\n",
       "      <td>21.800000</td>\n",
       "    </tr>\n",
       "    <tr>\n",
       "      <th>max</th>\n",
       "      <td>135.800000</td>\n",
       "    </tr>\n",
       "  </tbody>\n",
       "</table>\n",
       "</div>"
      ],
      "text/plain": [
       "                Tc\n",
       "count  6152.000000\n",
       "mean     17.781238\n",
       "std      26.829585\n",
       "min       0.000000\n",
       "25%       0.261500\n",
       "50%       5.100000\n",
       "75%      21.800000\n",
       "max     135.800000"
      ]
     },
     "execution_count": 79,
     "metadata": {},
     "output_type": "execute_result"
    }
   ],
   "source": [
    "data.describe()"
   ]
  },
  {
   "cell_type": "code",
   "execution_count": 80,
   "metadata": {},
   "outputs": [
    {
     "data": {
      "text/plain": [
       "(6152, 2)"
      ]
     },
     "execution_count": 80,
     "metadata": {},
     "output_type": "execute_result"
    }
   ],
   "source": [
    "data.shape"
   ]
  },
  {
   "cell_type": "code",
   "execution_count": 81,
   "metadata": {},
   "outputs": [
    {
     "name": "stdout",
     "output_type": "stream",
     "text": [
      "number of compounds without Tc: 1423\n",
      "number of compounds with Tc: 4729\n"
     ]
    },
    {
     "data": {
      "text/plain": [
       "count    4729.000000\n",
       "mean       23.131778\n",
       "std        28.507565\n",
       "min         0.001000\n",
       "25%         3.420000\n",
       "50%         9.830000\n",
       "75%        32.000000\n",
       "max       135.800000\n",
       "Name: Tc, dtype: float64"
      ]
     },
     "execution_count": 81,
     "metadata": {},
     "output_type": "execute_result"
    }
   ],
   "source": [
    "print(\"number of compounds without Tc:\",(data['Tc']==0).sum())\n",
    "print(\"number of compounds with Tc:\",(~(data['Tc']==0)).sum())\n",
    "data['Tc'][(data['Tc']>0)].describe()"
   ]
  },
  {
   "cell_type": "code",
   "execution_count": 82,
   "metadata": {},
   "outputs": [
    {
     "data": {
      "text/plain": [
       "<AxesSubplot:>"
      ]
     },
     "execution_count": 82,
     "metadata": {},
     "output_type": "execute_result"
    },
    {
     "data": {
      "image/png": "[encoded data removed]",
      "text/plain": [
       "<Figure size 576x432 with 1 Axes>"
      ]
     },
     "metadata": {
      "needs_background": "light"
     },
     "output_type": "display_data"
    }
   ],
   "source": [
    "%matplotlib inline\n",
    "\n",
    "plt.rcParams['figure.figsize'] = (8.0, 6.0)\n",
    "data[\"Tc\"][data[\"Tc\"]>0].hist(bins = range(0,140, 2))"
   ]
  },
  {
   "cell_type": "code",
   "execution_count": 83,
   "metadata": {},
   "outputs": [
    {
     "data": {
      "text/html": [
       "<div>\n",
       "<style scoped>\n",
       "    .dataframe tbody tr th:only-of-type {\n",
       "        vertical-align: middle;\n",
       "    }\n",
       "\n",
       "    .dataframe tbody tr th {\n",
       "        vertical-align: top;\n",
       "    }\n",
       "\n",
       "    .dataframe thead th {\n",
       "        text-align: right;\n",
       "    }\n",
       "</style>\n",
       "<table border=\"1\" class=\"dataframe\">\n",
       "  <thead>\n",
       "    <tr style=\"text-align: right;\">\n",
       "      <th></th>\n",
       "      <th>name</th>\n",
       "      <th>Tc</th>\n",
       "    </tr>\n",
       "  </thead>\n",
       "  <tbody>\n",
       "    <tr>\n",
       "      <th>2041</th>\n",
       "      <td>Hg1Ba2Ca1Cu2O6.21</td>\n",
       "      <td>127.0</td>\n",
       "    </tr>\n",
       "    <tr>\n",
       "      <th>2003</th>\n",
       "      <td>Hg0.7Pb0.3Ba2Ca2Cu3O8.35</td>\n",
       "      <td>130.0</td>\n",
       "    </tr>\n",
       "    <tr>\n",
       "      <th>2009</th>\n",
       "      <td>Hg0.8Bi0.2Ba2Ca2Cu3O8.2</td>\n",
       "      <td>130.0</td>\n",
       "    </tr>\n",
       "    <tr>\n",
       "      <th>2006</th>\n",
       "      <td>Hg0.85Re0.15Ba1.6Sr0.4Ca2Cu3O8</td>\n",
       "      <td>130.3</td>\n",
       "    </tr>\n",
       "    <tr>\n",
       "      <th>1993</th>\n",
       "      <td>Hg0.6Ti0.4Ba2Ca2Cu3O8.4</td>\n",
       "      <td>131.0</td>\n",
       "    </tr>\n",
       "    <tr>\n",
       "      <th>2005</th>\n",
       "      <td>Hg0.85Re0.15Ba1.66Sr0.34Ca2Cu3O8</td>\n",
       "      <td>131.3</td>\n",
       "    </tr>\n",
       "    <tr>\n",
       "      <th>1995</th>\n",
       "      <td>Hg0.75Ba2.07Ca2.07Cu3.11O8.136</td>\n",
       "      <td>132.9</td>\n",
       "    </tr>\n",
       "    <tr>\n",
       "      <th>2046</th>\n",
       "      <td>Hg1Ba2Ca2Cu3O8.29</td>\n",
       "      <td>135.0</td>\n",
       "    </tr>\n",
       "    <tr>\n",
       "      <th>1996</th>\n",
       "      <td>Hg0.75Ba2.07Ca2.07Cu3.11O8.187</td>\n",
       "      <td>135.4</td>\n",
       "    </tr>\n",
       "    <tr>\n",
       "      <th>1997</th>\n",
       "      <td>Hg0.75Ba2.07Ca2.07Cu3.11O8.208</td>\n",
       "      <td>135.8</td>\n",
       "    </tr>\n",
       "  </tbody>\n",
       "</table>\n",
       "</div>"
      ],
      "text/plain": [
       "                                  name     Tc\n",
       "2041                 Hg1Ba2Ca1Cu2O6.21  127.0\n",
       "2003          Hg0.7Pb0.3Ba2Ca2Cu3O8.35  130.0\n",
       "2009           Hg0.8Bi0.2Ba2Ca2Cu3O8.2  130.0\n",
       "2006    Hg0.85Re0.15Ba1.6Sr0.4Ca2Cu3O8  130.3\n",
       "1993           Hg0.6Ti0.4Ba2Ca2Cu3O8.4  131.0\n",
       "2005  Hg0.85Re0.15Ba1.66Sr0.34Ca2Cu3O8  131.3\n",
       "1995    Hg0.75Ba2.07Ca2.07Cu3.11O8.136  132.9\n",
       "2046                 Hg1Ba2Ca2Cu3O8.29  135.0\n",
       "1996    Hg0.75Ba2.07Ca2.07Cu3.11O8.187  135.4\n",
       "1997    Hg0.75Ba2.07Ca2.07Cu3.11O8.208  135.8"
      ]
     },
     "execution_count": 83,
     "metadata": {},
     "output_type": "execute_result"
    }
   ],
   "source": [
    "# Note the \"iloc\" (vs loc)!\n",
    "data.iloc[data[\"Tc\"].argsort().values[-10:]]"
   ]
  },
  {
   "cell_type": "code",
   "execution_count": 84,
   "metadata": {},
   "outputs": [
    {
     "name": "stdout",
     "output_type": "stream",
     "text": [
      "number of cuprates: \n",
      "2067\n",
      "number of Fe-based: \n",
      "616\n",
      "number of others: \n",
      "3508\n"
     ]
    }
   ],
   "source": [
    "data[\"Cuprate\"] = data[\"name\"].apply(lambda x: 1 if \"Cu\" in x and \"O\" in x else 0)\n",
    "data[\"Fe-based\"] = data[\"name\"].apply(lambda x: 1 if (\"Fe\" in x and \"As\" in x) \n",
    "                                          or (\"Fe\" in x and \"Se\" in x)\n",
    "                                          or (\"Fe\" in x and \"S\" in x)\n",
    "                                          or (\"Fe\" in x and \"Te\" in x)\n",
    "                                          or (\"Fe\" in x and \"P\" in x)\n",
    "                                          else 0)\n",
    "print(\"number of cuprates: \" )\n",
    "print((data[\"Cuprate\"]==1).sum())\n",
    "print(\"number of Fe-based: \" )\n",
    "print((data[\"Fe-based\"]==1).sum())\n",
    "print(\"number of others: \" )\n",
    "print(((data[\"Fe-based\"]==0)&(data[\"Cuprate\"]==0)).sum())\n",
    "# (data[\"Cuprate\"]==1).sum() + (data[\"Fe-based\"]==1).sum() +((data[\"Fe-based\"]==0)&(data[\"Cuprate\"]==0)).sum()"
   ]
  },
  {
   "cell_type": "code",
   "execution_count": 85,
   "metadata": {},
   "outputs": [
    {
     "name": "stdout",
     "output_type": "stream",
     "text": [
      "Materials in both groups:  39\n",
      "Materials in both groups after cleaning:  0\n"
     ]
    }
   ],
   "source": [
    "print(\"Materials in both groups: \", data[(data[\"Fe-based\"]==1)&(data[\"Cuprate\"]==1)].shape[0])\n",
    "data[(data[\"Fe-based\"]==1)&(data[\"Cuprate\"]==1)]\n",
    "\n",
    "indCuFe = data[(data[\"Fe-based\"]==1)&(data[\"Cuprate\"]==1)].index\n",
    "data.at[indCuFe, \"Fe-based\"] = 0\n",
    "print(\"Materials in both groups after cleaning: \", data[(data[\"Fe-based\"]==1)&(data[\"Cuprate\"]==1)].shape[0])"
   ]
  },
  {
   "cell_type": "code",
   "execution_count": 86,
   "metadata": {},
   "outputs": [
    {
     "data": {
      "text/html": [
       "<div>\n",
       "<style scoped>\n",
       "    .dataframe tbody tr th:only-of-type {\n",
       "        vertical-align: middle;\n",
       "    }\n",
       "\n",
       "    .dataframe tbody tr th {\n",
       "        vertical-align: top;\n",
       "    }\n",
       "\n",
       "    .dataframe thead th {\n",
       "        text-align: right;\n",
       "    }\n",
       "</style>\n",
       "<table border=\"1\" class=\"dataframe\">\n",
       "  <thead>\n",
       "    <tr style=\"text-align: right;\">\n",
       "      <th></th>\n",
       "      <th>name</th>\n",
       "      <th>Tc</th>\n",
       "      <th>Cuprate</th>\n",
       "      <th>Fe-based</th>\n",
       "    </tr>\n",
       "  </thead>\n",
       "  <tbody>\n",
       "    <tr>\n",
       "      <th>266</th>\n",
       "      <td>B2Mg0.988Sc0.012</td>\n",
       "      <td>41.4</td>\n",
       "      <td>0</td>\n",
       "      <td>0</td>\n",
       "    </tr>\n",
       "    <tr>\n",
       "      <th>1344</th>\n",
       "      <td>Cs3C60</td>\n",
       "      <td>40.0</td>\n",
       "      <td>0</td>\n",
       "      <td>0</td>\n",
       "    </tr>\n",
       "    <tr>\n",
       "      <th>3283</th>\n",
       "      <td>Mg0.7Be0.3B2</td>\n",
       "      <td>39.0</td>\n",
       "      <td>0</td>\n",
       "      <td>0</td>\n",
       "    </tr>\n",
       "    <tr>\n",
       "      <th>3312</th>\n",
       "      <td>Mg0.99Co0.01B2</td>\n",
       "      <td>38.7</td>\n",
       "      <td>0</td>\n",
       "      <td>0</td>\n",
       "    </tr>\n",
       "    <tr>\n",
       "      <th>3314</th>\n",
       "      <td>Mg0.99Ti0.01B2</td>\n",
       "      <td>38.6</td>\n",
       "      <td>0</td>\n",
       "      <td>0</td>\n",
       "    </tr>\n",
       "  </tbody>\n",
       "</table>\n",
       "</div>"
      ],
      "text/plain": [
       "                  name    Tc  Cuprate  Fe-based\n",
       "266   B2Mg0.988Sc0.012  41.4        0         0\n",
       "1344            Cs3C60  40.0        0         0\n",
       "3283      Mg0.7Be0.3B2  39.0        0         0\n",
       "3312    Mg0.99Co0.01B2  38.7        0         0\n",
       "3314    Mg0.99Ti0.01B2  38.6        0         0"
      ]
     },
     "execution_count": 86,
     "metadata": {},
     "output_type": "execute_result"
    }
   ],
   "source": [
    "data[(data[\"Fe-based\"]==0)&(data[\"Cuprate\"]==0)].sort_values(by=[\"Tc\"], ascending=False)[:5]\n",
    "data = data.drop([4000, 1929, 3999, 919])\n",
    "data[(data[\"Fe-based\"]==0)&(data[\"Cuprate\"]==0)].sort_values(by=[\"Tc\"], ascending=False)[:5]"
   ]
  },
  {
   "cell_type": "code",
   "execution_count": 87,
   "metadata": {},
   "outputs": [
    {
     "data": {
      "image/png": "[encoded data removed]",
      "text/plain": [
       "<Figure size 576x432 with 1 Axes>"
      ]
     },
     "metadata": {
      "needs_background": "light"
     },
     "output_type": "display_data"
    }
   ],
   "source": [
    "%matplotlib inline\n",
    "plt.rcParams['figure.figsize'] = (8.0, 6.0)\n",
    "cond_Cu = (data[\"Cuprate\"]==1)\n",
    "cond_Fe = (data[\"Fe-based\"]==1)\n",
    "cond_Low = (data[\"Cuprate\"]==0)&(data[\"Fe-based\"]==0)\n",
    "\n",
    "Tc_low = data[\"Tc\"][data[\"Tc\"]>0][cond_Low]\n",
    "Tc_Cu = data[\"Tc\"][data[\"Tc\"]>0][cond_Cu]\n",
    "Tc_Fe = data[\"Tc\"][data[\"Tc\"]>0][cond_Fe]\n",
    "\n",
    "plt.hist([Tc_low, Tc_Fe, Tc_Cu], stacked=True, color = ['DarkBlue','YellowGreen','DarkRed' ], \n",
    "         bins = range(0, 140, 2), alpha = 0.9, edgecolor='white', linewidth=0.5)\n",
    "plt.xlim(0, 140)\n",
    "plt.ylabel('Number of compounds', fontsize=18)\n",
    "plt.xlabel(r'$T_c$ (K)', fontsize=18)    \n",
    "\n",
    "\n",
    "plt.show()"
   ]
  },
  {
   "cell_type": "code",
   "execution_count": 88,
   "metadata": {},
   "outputs": [],
   "source": [
    "# use matminer to generate predictors\n",
    "\n",
    "import matminer\n",
    "from matminer.utils.conversions import str_to_composition\n",
    "from matminer.featurizers.composition import ElementProperty\n",
    "magpie = ElementProperty.from_preset(preset_name=\"magpie\")"
   ]
  },
  {
   "cell_type": "code",
   "execution_count": 89,
   "metadata": {},
   "outputs": [
    {
     "name": "stderr",
     "output_type": "stream",
     "text": [
      "/home/radix/anaconda3/envs/py38/lib/python3.8/site-packages/pandas/core/series.py:4200: DeprecationWarning: str_to_composition is deprecated\n",
      "matminer.utils.conversions.str_to_composition is deprecated and will be removed in December 2018. Please use the matminer.featurizers.conversions.StrToComposition Featurizer instead\n",
      "  mapped = lib.map_infer(values, f, convert=convert_dtype)\n",
      "/home/radix/anaconda3/envs/py38/lib/python3.8/site-packages/pandas/core/series.py:4055: DeprecationWarning: str_to_composition is deprecated\n",
      "matminer.utils.conversions.str_to_composition is deprecated and will be removed in December 2018. Please use the matminer.featurizers.conversions.StrToComposition Featurizer instead\n",
      "  result = func(self, *args, **kwargs)\n",
      "/home/radix/anaconda3/envs/py38/lib/python3.8/site-packages/matminer/featurizers/base.py:445: TqdmDeprecationWarning: This function will be removed in tqdm==5.0.0\n",
      "Please use `tqdm.notebook.tqdm` instead of `tqdm.tqdm_notebook`\n",
      "  entries = tqdm_func(list(entries), desc=self.__class__.__name__)\n"
     ]
    },
    {
     "data": {
      "application/vnd.jupyter.widget-view+json": {
       "model_id": "63deeabb1bba47bcbdee222e6390bdd3",
       "version_major": 2,
       "version_minor": 0
      },
      "text/plain": [
       "HBox(children=(FloatProgress(value=0.0, description='ElementProperty', max=6148.0, style=ProgressStyle(descrip…"
      ]
     },
     "metadata": {},
     "output_type": "display_data"
    },
    {
     "name": "stdout",
     "output_type": "stream",
     "text": [
      "\n"
     ]
    },
    {
     "data": {
      "text/html": [
       "<div>\n",
       "<style scoped>\n",
       "    .dataframe tbody tr th:only-of-type {\n",
       "        vertical-align: middle;\n",
       "    }\n",
       "\n",
       "    .dataframe tbody tr th {\n",
       "        vertical-align: top;\n",
       "    }\n",
       "\n",
       "    .dataframe thead th {\n",
       "        text-align: right;\n",
       "    }\n",
       "</style>\n",
       "<table border=\"1\" class=\"dataframe\">\n",
       "  <thead>\n",
       "    <tr style=\"text-align: right;\">\n",
       "      <th></th>\n",
       "      <th>name</th>\n",
       "      <th>Tc</th>\n",
       "      <th>Cuprate</th>\n",
       "      <th>Fe-based</th>\n",
       "      <th>composition</th>\n",
       "      <th>MagpieData minimum Number</th>\n",
       "      <th>MagpieData maximum Number</th>\n",
       "      <th>MagpieData range Number</th>\n",
       "      <th>MagpieData mean Number</th>\n",
       "      <th>MagpieData avg_dev Number</th>\n",
       "      <th>...</th>\n",
       "      <th>MagpieData range GSmagmom</th>\n",
       "      <th>MagpieData mean GSmagmom</th>\n",
       "      <th>MagpieData avg_dev GSmagmom</th>\n",
       "      <th>MagpieData mode GSmagmom</th>\n",
       "      <th>MagpieData minimum SpaceGroupNumber</th>\n",
       "      <th>MagpieData maximum SpaceGroupNumber</th>\n",
       "      <th>MagpieData range SpaceGroupNumber</th>\n",
       "      <th>MagpieData mean SpaceGroupNumber</th>\n",
       "      <th>MagpieData avg_dev SpaceGroupNumber</th>\n",
       "      <th>MagpieData mode SpaceGroupNumber</th>\n",
       "    </tr>\n",
       "  </thead>\n",
       "  <tbody>\n",
       "    <tr>\n",
       "      <th>0</th>\n",
       "      <td>Ag0.005Zn0.995</td>\n",
       "      <td>0.763</td>\n",
       "      <td>0</td>\n",
       "      <td>0</td>\n",
       "      <td>(Ag, Zn)</td>\n",
       "      <td>30.0</td>\n",
       "      <td>47.0</td>\n",
       "      <td>17.0</td>\n",
       "      <td>30.085</td>\n",
       "      <td>0.169150</td>\n",
       "      <td>...</td>\n",
       "      <td>0.0</td>\n",
       "      <td>0.0</td>\n",
       "      <td>0.0</td>\n",
       "      <td>0.0</td>\n",
       "      <td>194.0</td>\n",
       "      <td>225.0</td>\n",
       "      <td>31.0</td>\n",
       "      <td>194.155</td>\n",
       "      <td>0.30845</td>\n",
       "      <td>194.0</td>\n",
       "    </tr>\n",
       "    <tr>\n",
       "      <th>1</th>\n",
       "      <td>Ag0.035Cd0.01Sn0.955</td>\n",
       "      <td>3.650</td>\n",
       "      <td>0</td>\n",
       "      <td>0</td>\n",
       "      <td>(Ag, Cd, Sn)</td>\n",
       "      <td>47.0</td>\n",
       "      <td>50.0</td>\n",
       "      <td>3.0</td>\n",
       "      <td>49.875</td>\n",
       "      <td>0.238750</td>\n",
       "      <td>...</td>\n",
       "      <td>0.0</td>\n",
       "      <td>0.0</td>\n",
       "      <td>0.0</td>\n",
       "      <td>0.0</td>\n",
       "      <td>141.0</td>\n",
       "      <td>225.0</td>\n",
       "      <td>84.0</td>\n",
       "      <td>144.470</td>\n",
       "      <td>6.62770</td>\n",
       "      <td>141.0</td>\n",
       "    </tr>\n",
       "    <tr>\n",
       "      <th>2</th>\n",
       "      <td>Ag0.03Tl0.97</td>\n",
       "      <td>2.670</td>\n",
       "      <td>0</td>\n",
       "      <td>0</td>\n",
       "      <td>(Ag, Tl)</td>\n",
       "      <td>47.0</td>\n",
       "      <td>81.0</td>\n",
       "      <td>34.0</td>\n",
       "      <td>79.980</td>\n",
       "      <td>1.978800</td>\n",
       "      <td>...</td>\n",
       "      <td>0.0</td>\n",
       "      <td>0.0</td>\n",
       "      <td>0.0</td>\n",
       "      <td>0.0</td>\n",
       "      <td>194.0</td>\n",
       "      <td>225.0</td>\n",
       "      <td>31.0</td>\n",
       "      <td>194.930</td>\n",
       "      <td>1.80420</td>\n",
       "      <td>194.0</td>\n",
       "    </tr>\n",
       "    <tr>\n",
       "      <th>3</th>\n",
       "      <td>Ag0.04Cd0.784Cu0.01Zn0.166</td>\n",
       "      <td>0.000</td>\n",
       "      <td>0</td>\n",
       "      <td>0</td>\n",
       "      <td>(Ag, Cd, Cu, Zn)</td>\n",
       "      <td>29.0</td>\n",
       "      <td>48.0</td>\n",
       "      <td>19.0</td>\n",
       "      <td>44.782</td>\n",
       "      <td>5.223264</td>\n",
       "      <td>...</td>\n",
       "      <td>0.0</td>\n",
       "      <td>0.0</td>\n",
       "      <td>0.0</td>\n",
       "      <td>0.0</td>\n",
       "      <td>194.0</td>\n",
       "      <td>225.0</td>\n",
       "      <td>31.0</td>\n",
       "      <td>195.550</td>\n",
       "      <td>2.94500</td>\n",
       "      <td>194.0</td>\n",
       "    </tr>\n",
       "    <tr>\n",
       "      <th>4</th>\n",
       "      <td>Ag0.12In0.88</td>\n",
       "      <td>4.690</td>\n",
       "      <td>0</td>\n",
       "      <td>0</td>\n",
       "      <td>(Ag, In)</td>\n",
       "      <td>47.0</td>\n",
       "      <td>49.0</td>\n",
       "      <td>2.0</td>\n",
       "      <td>48.760</td>\n",
       "      <td>0.422400</td>\n",
       "      <td>...</td>\n",
       "      <td>0.0</td>\n",
       "      <td>0.0</td>\n",
       "      <td>0.0</td>\n",
       "      <td>0.0</td>\n",
       "      <td>139.0</td>\n",
       "      <td>225.0</td>\n",
       "      <td>86.0</td>\n",
       "      <td>149.320</td>\n",
       "      <td>18.16320</td>\n",
       "      <td>139.0</td>\n",
       "    </tr>\n",
       "  </tbody>\n",
       "</table>\n",
       "<p>5 rows × 137 columns</p>\n",
       "</div>"
      ],
      "text/plain": [
       "                         name     Tc  Cuprate  Fe-based       composition  \\\n",
       "0              Ag0.005Zn0.995  0.763        0         0          (Ag, Zn)   \n",
       "1        Ag0.035Cd0.01Sn0.955  3.650        0         0      (Ag, Cd, Sn)   \n",
       "2                Ag0.03Tl0.97  2.670        0         0          (Ag, Tl)   \n",
       "3  Ag0.04Cd0.784Cu0.01Zn0.166  0.000        0         0  (Ag, Cd, Cu, Zn)   \n",
       "4                Ag0.12In0.88  4.690        0         0          (Ag, In)   \n",
       "\n",
       "   MagpieData minimum Number  MagpieData maximum Number  \\\n",
       "0                       30.0                       47.0   \n",
       "1                       47.0                       50.0   \n",
       "2                       47.0                       81.0   \n",
       "3                       29.0                       48.0   \n",
       "4                       47.0                       49.0   \n",
       "\n",
       "   MagpieData range Number  MagpieData mean Number  MagpieData avg_dev Number  \\\n",
       "0                     17.0                  30.085                   0.169150   \n",
       "1                      3.0                  49.875                   0.238750   \n",
       "2                     34.0                  79.980                   1.978800   \n",
       "3                     19.0                  44.782                   5.223264   \n",
       "4                      2.0                  48.760                   0.422400   \n",
       "\n",
       "   ...  MagpieData range GSmagmom  MagpieData mean GSmagmom  \\\n",
       "0  ...                        0.0                       0.0   \n",
       "1  ...                        0.0                       0.0   \n",
       "2  ...                        0.0                       0.0   \n",
       "3  ...                        0.0                       0.0   \n",
       "4  ...                        0.0                       0.0   \n",
       "\n",
       "   MagpieData avg_dev GSmagmom  MagpieData mode GSmagmom  \\\n",
       "0                          0.0                       0.0   \n",
       "1                          0.0                       0.0   \n",
       "2                          0.0                       0.0   \n",
       "3                          0.0                       0.0   \n",
       "4                          0.0                       0.0   \n",
       "\n",
       "   MagpieData minimum SpaceGroupNumber  MagpieData maximum SpaceGroupNumber  \\\n",
       "0                                194.0                                225.0   \n",
       "1                                141.0                                225.0   \n",
       "2                                194.0                                225.0   \n",
       "3                                194.0                                225.0   \n",
       "4                                139.0                                225.0   \n",
       "\n",
       "   MagpieData range SpaceGroupNumber  MagpieData mean SpaceGroupNumber  \\\n",
       "0                               31.0                           194.155   \n",
       "1                               84.0                           144.470   \n",
       "2                               31.0                           194.930   \n",
       "3                               31.0                           195.550   \n",
       "4                               86.0                           149.320   \n",
       "\n",
       "   MagpieData avg_dev SpaceGroupNumber  MagpieData mode SpaceGroupNumber  \n",
       "0                              0.30845                             194.0  \n",
       "1                              6.62770                             141.0  \n",
       "2                              1.80420                             194.0  \n",
       "3                              2.94500                             194.0  \n",
       "4                             18.16320                             139.0  \n",
       "\n",
       "[5 rows x 137 columns]"
      ]
     },
     "execution_count": 89,
     "metadata": {},
     "output_type": "execute_result"
    }
   ],
   "source": [
    "data[\"composition\"] = data[\"name\"].transform(str_to_composition)\n",
    "data = magpie.featurize_dataframe(data, col_id=\"composition\", ignore_errors=True)\n",
    "data.head()"
   ]
  },
  {
   "cell_type": "code",
   "execution_count": 90,
   "metadata": {},
   "outputs": [
    {
     "name": "stdout",
     "output_type": "stream",
     "text": [
      "(6148, 137)\n",
      "(6074, 137)\n"
     ]
    },
    {
     "name": "stderr",
     "output_type": "stream",
     "text": [
      "/home/radix/anaconda3/envs/py38/lib/python3.8/site-packages/ipykernel/ipkernel.py:287: DeprecationWarning: `should_run_async` will not call `transform_cell` automatically in the future. Please pass the result to `transformed_cell` argument and any exception that happen during thetransform in `preprocessing_exc_tuple` in IPython 7.17 and above.\n",
      "  and should_run_async(code)\n"
     ]
    }
   ],
   "source": [
    "print(data.shape)\n",
    "data = data.dropna(axis = 0)\n",
    "print(data.shape)"
   ]
  },
  {
   "cell_type": "code",
   "execution_count": 92,
   "metadata": {},
   "outputs": [
    {
     "data": {
      "text/plain": [
       "(6074, 137)"
      ]
     },
     "execution_count": 92,
     "metadata": {},
     "output_type": "execute_result"
    }
   ],
   "source": [
    "# if not using matminer, import the features\n",
    "\n",
    "data_mm = pd.read_csv(\"SC_short_Matminer_features.csv\")\n",
    "data_mm.shape"
   ]
  },
  {
   "cell_type": "code",
   "execution_count": 93,
   "metadata": {},
   "outputs": [
    {
     "data": {
      "text/html": [
       "<div>\n",
       "<style scoped>\n",
       "    .dataframe tbody tr th:only-of-type {\n",
       "        vertical-align: middle;\n",
       "    }\n",
       "\n",
       "    .dataframe tbody tr th {\n",
       "        vertical-align: top;\n",
       "    }\n",
       "\n",
       "    .dataframe thead th {\n",
       "        text-align: right;\n",
       "    }\n",
       "</style>\n",
       "<table border=\"1\" class=\"dataframe\">\n",
       "  <thead>\n",
       "    <tr style=\"text-align: right;\">\n",
       "      <th></th>\n",
       "      <th>name</th>\n",
       "      <th>Tc</th>\n",
       "      <th>Cuprate</th>\n",
       "      <th>Fe-based</th>\n",
       "      <th>composition</th>\n",
       "      <th>MagpieData minimum Number</th>\n",
       "      <th>MagpieData maximum Number</th>\n",
       "      <th>MagpieData range Number</th>\n",
       "      <th>MagpieData mean Number</th>\n",
       "      <th>MagpieData avg_dev Number</th>\n",
       "      <th>...</th>\n",
       "      <th>MagpieData range GSmagmom</th>\n",
       "      <th>MagpieData mean GSmagmom</th>\n",
       "      <th>MagpieData avg_dev GSmagmom</th>\n",
       "      <th>MagpieData mode GSmagmom</th>\n",
       "      <th>MagpieData minimum SpaceGroupNumber</th>\n",
       "      <th>MagpieData maximum SpaceGroupNumber</th>\n",
       "      <th>MagpieData range SpaceGroupNumber</th>\n",
       "      <th>MagpieData mean SpaceGroupNumber</th>\n",
       "      <th>MagpieData avg_dev SpaceGroupNumber</th>\n",
       "      <th>MagpieData mode SpaceGroupNumber</th>\n",
       "    </tr>\n",
       "  </thead>\n",
       "  <tbody>\n",
       "    <tr>\n",
       "      <th>0</th>\n",
       "      <td>Ag0.005Zn0.995</td>\n",
       "      <td>0.763</td>\n",
       "      <td>0</td>\n",
       "      <td>0</td>\n",
       "      <td>(Ag, Zn)</td>\n",
       "      <td>30.0</td>\n",
       "      <td>47.0</td>\n",
       "      <td>17.0</td>\n",
       "      <td>30.085</td>\n",
       "      <td>0.169150</td>\n",
       "      <td>...</td>\n",
       "      <td>0.0</td>\n",
       "      <td>0.0</td>\n",
       "      <td>0.0</td>\n",
       "      <td>0.0</td>\n",
       "      <td>194.0</td>\n",
       "      <td>225.0</td>\n",
       "      <td>31.0</td>\n",
       "      <td>194.155</td>\n",
       "      <td>0.30845</td>\n",
       "      <td>194.0</td>\n",
       "    </tr>\n",
       "    <tr>\n",
       "      <th>1</th>\n",
       "      <td>Ag0.035Cd0.01Sn0.955</td>\n",
       "      <td>3.650</td>\n",
       "      <td>0</td>\n",
       "      <td>0</td>\n",
       "      <td>(Ag, Cd, Sn)</td>\n",
       "      <td>47.0</td>\n",
       "      <td>50.0</td>\n",
       "      <td>3.0</td>\n",
       "      <td>49.875</td>\n",
       "      <td>0.238750</td>\n",
       "      <td>...</td>\n",
       "      <td>0.0</td>\n",
       "      <td>0.0</td>\n",
       "      <td>0.0</td>\n",
       "      <td>0.0</td>\n",
       "      <td>141.0</td>\n",
       "      <td>225.0</td>\n",
       "      <td>84.0</td>\n",
       "      <td>144.470</td>\n",
       "      <td>6.62770</td>\n",
       "      <td>141.0</td>\n",
       "    </tr>\n",
       "    <tr>\n",
       "      <th>2</th>\n",
       "      <td>Ag0.03Tl0.97</td>\n",
       "      <td>2.670</td>\n",
       "      <td>0</td>\n",
       "      <td>0</td>\n",
       "      <td>(Ag, Tl)</td>\n",
       "      <td>47.0</td>\n",
       "      <td>81.0</td>\n",
       "      <td>34.0</td>\n",
       "      <td>79.980</td>\n",
       "      <td>1.978800</td>\n",
       "      <td>...</td>\n",
       "      <td>0.0</td>\n",
       "      <td>0.0</td>\n",
       "      <td>0.0</td>\n",
       "      <td>0.0</td>\n",
       "      <td>194.0</td>\n",
       "      <td>225.0</td>\n",
       "      <td>31.0</td>\n",
       "      <td>194.930</td>\n",
       "      <td>1.80420</td>\n",
       "      <td>194.0</td>\n",
       "    </tr>\n",
       "    <tr>\n",
       "      <th>3</th>\n",
       "      <td>Ag0.04Cd0.784Cu0.01Zn0.166</td>\n",
       "      <td>0.000</td>\n",
       "      <td>0</td>\n",
       "      <td>0</td>\n",
       "      <td>(Ag, Cd, Cu, Zn)</td>\n",
       "      <td>29.0</td>\n",
       "      <td>48.0</td>\n",
       "      <td>19.0</td>\n",
       "      <td>44.782</td>\n",
       "      <td>5.223264</td>\n",
       "      <td>...</td>\n",
       "      <td>0.0</td>\n",
       "      <td>0.0</td>\n",
       "      <td>0.0</td>\n",
       "      <td>0.0</td>\n",
       "      <td>194.0</td>\n",
       "      <td>225.0</td>\n",
       "      <td>31.0</td>\n",
       "      <td>195.550</td>\n",
       "      <td>2.94500</td>\n",
       "      <td>194.0</td>\n",
       "    </tr>\n",
       "    <tr>\n",
       "      <th>4</th>\n",
       "      <td>Ag0.12In0.88</td>\n",
       "      <td>4.690</td>\n",
       "      <td>0</td>\n",
       "      <td>0</td>\n",
       "      <td>(Ag, In)</td>\n",
       "      <td>47.0</td>\n",
       "      <td>49.0</td>\n",
       "      <td>2.0</td>\n",
       "      <td>48.760</td>\n",
       "      <td>0.422400</td>\n",
       "      <td>...</td>\n",
       "      <td>0.0</td>\n",
       "      <td>0.0</td>\n",
       "      <td>0.0</td>\n",
       "      <td>0.0</td>\n",
       "      <td>139.0</td>\n",
       "      <td>225.0</td>\n",
       "      <td>86.0</td>\n",
       "      <td>149.320</td>\n",
       "      <td>18.16320</td>\n",
       "      <td>139.0</td>\n",
       "    </tr>\n",
       "  </tbody>\n",
       "</table>\n",
       "<p>5 rows × 137 columns</p>\n",
       "</div>"
      ],
      "text/plain": [
       "                         name     Tc  Cuprate  Fe-based       composition  \\\n",
       "0              Ag0.005Zn0.995  0.763        0         0          (Ag, Zn)   \n",
       "1        Ag0.035Cd0.01Sn0.955  3.650        0         0      (Ag, Cd, Sn)   \n",
       "2                Ag0.03Tl0.97  2.670        0         0          (Ag, Tl)   \n",
       "3  Ag0.04Cd0.784Cu0.01Zn0.166  0.000        0         0  (Ag, Cd, Cu, Zn)   \n",
       "4                Ag0.12In0.88  4.690        0         0          (Ag, In)   \n",
       "\n",
       "   MagpieData minimum Number  MagpieData maximum Number  \\\n",
       "0                       30.0                       47.0   \n",
       "1                       47.0                       50.0   \n",
       "2                       47.0                       81.0   \n",
       "3                       29.0                       48.0   \n",
       "4                       47.0                       49.0   \n",
       "\n",
       "   MagpieData range Number  MagpieData mean Number  MagpieData avg_dev Number  \\\n",
       "0                     17.0                  30.085                   0.169150   \n",
       "1                      3.0                  49.875                   0.238750   \n",
       "2                     34.0                  79.980                   1.978800   \n",
       "3                     19.0                  44.782                   5.223264   \n",
       "4                      2.0                  48.760                   0.422400   \n",
       "\n",
       "   ...  MagpieData range GSmagmom  MagpieData mean GSmagmom  \\\n",
       "0  ...                        0.0                       0.0   \n",
       "1  ...                        0.0                       0.0   \n",
       "2  ...                        0.0                       0.0   \n",
       "3  ...                        0.0                       0.0   \n",
       "4  ...                        0.0                       0.0   \n",
       "\n",
       "   MagpieData avg_dev GSmagmom  MagpieData mode GSmagmom  \\\n",
       "0                          0.0                       0.0   \n",
       "1                          0.0                       0.0   \n",
       "2                          0.0                       0.0   \n",
       "3                          0.0                       0.0   \n",
       "4                          0.0                       0.0   \n",
       "\n",
       "   MagpieData minimum SpaceGroupNumber  MagpieData maximum SpaceGroupNumber  \\\n",
       "0                                194.0                                225.0   \n",
       "1                                141.0                                225.0   \n",
       "2                                194.0                                225.0   \n",
       "3                                194.0                                225.0   \n",
       "4                                139.0                                225.0   \n",
       "\n",
       "   MagpieData range SpaceGroupNumber  MagpieData mean SpaceGroupNumber  \\\n",
       "0                               31.0                           194.155   \n",
       "1                               84.0                           144.470   \n",
       "2                               31.0                           194.930   \n",
       "3                               31.0                           195.550   \n",
       "4                               86.0                           149.320   \n",
       "\n",
       "   MagpieData avg_dev SpaceGroupNumber  MagpieData mode SpaceGroupNumber  \n",
       "0                              0.30845                             194.0  \n",
       "1                              6.62770                             141.0  \n",
       "2                              1.80420                             194.0  \n",
       "3                              2.94500                             194.0  \n",
       "4                             18.16320                             139.0  \n",
       "\n",
       "[5 rows x 137 columns]"
      ]
     },
     "execution_count": 93,
     "metadata": {},
     "output_type": "execute_result"
    }
   ],
   "source": [
    "data.head()"
   ]
  },
  {
   "cell_type": "code",
   "execution_count": 94,
   "metadata": {},
   "outputs": [
    {
     "name": "stderr",
     "output_type": "stream",
     "text": [
      "/home/radix/anaconda3/envs/py38/lib/python3.8/site-packages/ipykernel/ipkernel.py:287: DeprecationWarning: `should_run_async` will not call `transform_cell` automatically in the future. Please pass the result to `transformed_cell` argument and any exception that happen during thetransform in `preprocessing_exc_tuple` in IPython 7.17 and above.\n",
      "  and should_run_async(code)\n"
     ]
    },
    {
     "data": {
      "text/plain": [
       "Index(['MagpieData minimum Number', 'MagpieData maximum Number',\n",
       "       'MagpieData range Number', 'MagpieData mean Number',\n",
       "       'MagpieData avg_dev Number', 'MagpieData mode Number',\n",
       "       'MagpieData minimum MendeleevNumber',\n",
       "       'MagpieData maximum MendeleevNumber',\n",
       "       'MagpieData range MendeleevNumber', 'MagpieData mean MendeleevNumber',\n",
       "       ...\n",
       "       'MagpieData range GSmagmom', 'MagpieData mean GSmagmom',\n",
       "       'MagpieData avg_dev GSmagmom', 'MagpieData mode GSmagmom',\n",
       "       'MagpieData minimum SpaceGroupNumber',\n",
       "       'MagpieData maximum SpaceGroupNumber',\n",
       "       'MagpieData range SpaceGroupNumber', 'MagpieData mean SpaceGroupNumber',\n",
       "       'MagpieData avg_dev SpaceGroupNumber',\n",
       "       'MagpieData mode SpaceGroupNumber'],\n",
       "      dtype='object', length=132)"
      ]
     },
     "execution_count": 94,
     "metadata": {},
     "output_type": "execute_result"
    }
   ],
   "source": [
    "data.columns[5:]"
   ]
  },
  {
   "cell_type": "code",
   "execution_count": 95,
   "metadata": {},
   "outputs": [],
   "source": [
    "# check for correlated predictors, i.e. from the magpie set\n",
    "\n",
    "feature_list = data.columns[5:]\n",
    "feature_corr =  data[feature_list].corr().abs()"
   ]
  },
  {
   "cell_type": "code",
   "execution_count": 96,
   "metadata": {},
   "outputs": [
    {
     "data": {
      "image/png": "[encoded data removed]",
      "text/plain": [
       "<Figure size 576x576 with 2 Axes>"
      ]
     },
     "metadata": {
      "needs_background": "light"
     },
     "output_type": "display_data"
    }
   ],
   "source": [
    "from matplotlib import cm as cm\n",
    "cmap = cm.get_cmap(\"magma\")\n",
    "plt.rcParams['figure.figsize'] = (10.0, 8.0)\n",
    "plt.matshow(feature_corr, cmap=cmap)\n",
    "plt.colorbar()\n",
    "plt.show()"
   ]
  },
  {
   "cell_type": "code",
   "execution_count": 97,
   "metadata": {},
   "outputs": [
    {
     "data": {
      "text/plain": [
       "False"
      ]
     },
     "execution_count": 97,
     "metadata": {},
     "output_type": "execute_result"
    }
   ],
   "source": [
    "data.isna().values.any()"
   ]
  },
  {
   "cell_type": "code",
   "execution_count": null,
   "metadata": {},
   "outputs": [],
   "source": []
  }
 ],
 "metadata": {
  "kernelspec": {
   "display_name": "Python 3",
   "language": "python",
   "name": "python3"
  },
  "language_info": {
   "codemirror_mode": {
    "name": "ipython",
    "version": 3
   },
   "file_extension": ".py",
   "mimetype": "text/x-python",
   "name": "python",
   "nbconvert_exporter": "python",
   "pygments_lexer": "ipython3",
   "version": "3.8.5"
  }
 },
 "nbformat": 4,
 "nbformat_minor": 4
}
